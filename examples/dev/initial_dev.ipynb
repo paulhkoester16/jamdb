{
 "cells": [
  {
   "cell_type": "markdown",
   "id": "ad527c9c-c3c5-4c37-817b-de6f793f2263",
   "metadata": {},
   "source": [
    "# The Jamming DB\n",
    "\n",
    "This NB assumes `REPOROOT/data/testing/jamming.db` already exists.\n",
    "To create the DB, from REPOROOT, run \n",
    "```python scripts/initialize_db.py data/testing/jamming.db```\n",
    "\n",
    "Present notebook tests insert/delete/update operations, so you'll need to rerun the build."
   ]
  },
  {
   "cell_type": "code",
   "execution_count": null,
   "id": "fdd4bfb3-1c18-498b-a61e-14e3ff591b8a",
   "metadata": {},
   "outputs": [],
   "source": [
    "! cd ../../; python scripts/initialize_db.py data/testing/jamming.db --force_rebuild"
   ]
  },
  {
   "cell_type": "code",
   "execution_count": null,
   "id": "2143fbc8-11ef-4e90-ad24-c068ab501c13",
   "metadata": {},
   "outputs": [],
   "source": [
    "import sys\n",
    "from pathlib import Path\n",
    "\n",
    "REPO_ROOT = Path(\"./\").absolute().parent.parent\n",
    "sys.path.append(str(REPO_ROOT))\n",
    "from jamdb.db import BackendSQLite, DBError #, UniqueConstraintError, FKConstraintError\n",
    "\n",
    "DB_FILE = REPO_ROOT / \"data/testing/jamming.db\"\n",
    "\n",
    "db_handler = BackendSQLite(DB_FILE)"
   ]
  },
  {
   "cell_type": "code",
   "execution_count": null,
   "id": "4d797e64-24ef-4362-8be3-54c1f8217d51",
   "metadata": {},
   "outputs": [],
   "source": [
    "## Tests to run on the test db.\n",
    "\n",
    "# db_handler.query(\"SELECT * FROM Key\")[\"mode_id\"].value_counts()\n",
    "\n",
    "# try:\n",
    "#     db_handler.delete_row(\"Person\", \"paul_k\")\n",
    "# except DBError:\n",
    "#     pass # we expect FK error\n",
    "\n",
    "# db_handler.delete_row(\"Song\", \"work_song\")\n",
    "\n",
    "# db_handler.insert_row(\"PersonInstrument\", {\"id\": \"made_up\", \"person_id\": \"paul_k\", \"instrument_id\": \"trumpet\"})\n",
    "\n",
    "# try:\n",
    "#     db_handler.insert_row(\"PersonInstrument\", {\"id\": \"made_up_2\", \"person_id\": \"paul_k\", \"instrument_id\": \"gong\"})\n",
    "# except DBError:\n",
    "#     pass # we expect FK Error\n",
    "\n",
    "# try:\n",
    "#     db_handler.update_row(\"PersonInstrument\", \"made_up\", {\"id\": \"made_up\", \"instrument_id\": \"a_sax\"})\n",
    "# except DBError:\n",
    "#     pass # expect error since trying to update pk\n",
    "\n",
    "# try:\n",
    "#     db_handler.update_row(\"PersonInstrument\", \"made_up\", {\"instrument_id\": \"e_guitar\"})\n",
    "# except DBError:\n",
    "#     pass # expect Uniqueness error\n",
    "\n",
    "# try:\n",
    "#     db_handler.update_row(\"PersonInstrument\", \"made_up\", {\"instrument_id\": \"gong\"})\n",
    "# except DBError:\n",
    "#     pass # expect FK error\n",
    "\n",
    "# db_handler.update_row(\"PersonInstrument\", \"made_up\", {\"instrument_id\": \"t_sax\"})\n",
    "\n",
    "# db_handler.get_row(\"PersonInstrument\", \"made_up\")\n",
    "\n",
    "# db_handler.rename_primary_key(\"PersonInstrument\", \"made_up\", \"paul_k:t_sax\")\n",
    "\n",
    "# db_handler.get_row(\"PersonInstrument\", \"paul_k:t_sax\")\n",
    "\n",
    "# db_handler.get_row(\"PersonInstrument\", \"paul_k:e_guitar\")\n",
    "\n",
    "# db_handler.rename_primary_key(\"PersonInstrument\", \"paul_k:e_guitar\", \"paul_k:electric_geetar\")\n",
    "\n",
    "# db_handler.get_row(\"PersonInstrument\", \"paul_k:electric_geetar\")\n",
    "\n",
    "# db_handler.get_row(\"PersonInstrument\", \"travis_p:a_sax\")\n",
    "\n",
    "# try:\n",
    "#     db_handler.delete_row(\"PersonInstrument\", \"travis_p:a_sax\")\n",
    "# except DBError:\n",
    "#     pass # expect FK error\n",
    "\n",
    "# db_handler.rename_primary_key(\"Person\", \"mike_p\", \"mikey_p\")\n",
    "\n",
    "# db_handler.rename_primary_key(\"Key\", \"A_minor\", \"MY NER\")\n",
    "\n",
    "# db_handler.rename_primary_key(\"Mode\", \"minor\", \"maynor\")"
   ]
  },
  {
   "cell_type": "code",
   "execution_count": null,
   "id": "192252f6-201d-45f0-91be-a312d79fb7da",
   "metadata": {},
   "outputs": [],
   "source": []
  },
  {
   "cell_type": "code",
   "execution_count": null,
   "id": "838e386c-ed08-4ff7-b192-6ed6ee4ae8ab",
   "metadata": {},
   "outputs": [],
   "source": []
  },
  {
   "cell_type": "code",
   "execution_count": null,
   "id": "b405551a-677a-45d1-a1ce-d3fa68026b29",
   "metadata": {},
   "outputs": [],
   "source": []
  },
  {
   "cell_type": "code",
   "execution_count": null,
   "id": "1ecc980c-40b1-4df4-81e1-951443110c55",
   "metadata": {},
   "outputs": [],
   "source": []
  },
  {
   "cell_type": "code",
   "execution_count": 3,
   "id": "171fad06-cf8b-4431-89bd-54d0e679b364",
   "metadata": {},
   "outputs": [],
   "source": [
    "import sys\n",
    "from pathlib import Path\n",
    "\n",
    "REPO_ROOT = Path(\"./\").absolute().parent.parent\n",
    "sys.path.append(str(REPO_ROOT))\n",
    "from jamdb.db import BackendSQLite #, DBError, UniqueConstraintError, FKConstraintError\n",
    "\n",
    "DB_FILE = REPO_ROOT / \"data/jamming.db\"\n",
    "\n",
    "db_handler = BackendSQLite(DB_FILE)"
   ]
  },
  {
   "cell_type": "code",
   "execution_count": 13,
   "id": "07c6abce-bcd9-46bc-84a9-52d41745610b",
   "metadata": {},
   "outputs": [
    {
     "data": {
      "text/plain": [
       "{'id': 'travis_p',\n",
       " 'public_name': 'Travis P',\n",
       " 'full_name': 'Travis to the P Perry',\n",
       " 'facebook': '',\n",
       " 'instagram': '',\n",
       " 'youtube': '',\n",
       " 'other_contact': ''}"
      ]
     },
     "execution_count": 13,
     "metadata": {},
     "output_type": "execute_result"
    }
   ],
   "source": [
    "table_name, pk = \"Person\", \"travis_p\"\n",
    "got = db_handler.get_row(table_name, pk)\n",
    "got"
   ]
  },
  {
   "cell_type": "code",
   "execution_count": 14,
   "id": "d1c516a4-fd34-40bc-8f60-c4a2cfaa8e9a",
   "metadata": {},
   "outputs": [],
   "source": [
    "import copy\n",
    "db_handler.update_row(table_name, pk, {\"full_name\": \"Travis Perry\"})"
   ]
  },
  {
   "cell_type": "code",
   "execution_count": 8,
   "id": "6db87d4c-9500-42e2-983c-b43efb3782f0",
   "metadata": {},
   "outputs": [
    {
     "name": "stdout",
     "output_type": "stream",
     "text": [
      "Help on method update_row in module jamdb.db:\n",
      "\n",
      "update_row(table_name, primary_key, row, commit=True) method of jamdb.db.BackendSQLite instance\n",
      "\n"
     ]
    }
   ],
   "source": [
    "help(db_handler.update_row)"
   ]
  },
  {
   "cell_type": "code",
   "execution_count": null,
   "id": "a2747e9c-e17d-495d-ad01-99579f6c5f96",
   "metadata": {},
   "outputs": [],
   "source": [
    "# import sys\n",
    "# from pathlib import Path\n",
    "\n",
    "# REPO_ROOT = Path(\"./\").absolute().parent.parent\n",
    "# sys.path.append(str(REPO_ROOT))\n",
    "# from jamdb.db import BackendSQLite #, DBError, UniqueConstraintError, FKConstraintError\n",
    "\n",
    "# DB_FILE = REPO_ROOT / \"data/jamming.db\"\n",
    "\n",
    "# db_handler = BackendSQLite(DB_FILE)"
   ]
  },
  {
   "cell_type": "code",
   "execution_count": 18,
   "id": "9f5bf53e-499b-4316-8cd5-6cc17bec384e",
   "metadata": {},
   "outputs": [
    {
     "data": {
      "text/plain": [
       "['Composer',\n",
       " 'EventGen',\n",
       " 'EventOcc',\n",
       " 'Genre',\n",
       " 'Instrument',\n",
       " 'Key',\n",
       " 'Mode',\n",
       " 'Person',\n",
       " 'PersonInstrument',\n",
       " 'Setlist',\n",
       " 'SetlistSongs',\n",
       " 'Song',\n",
       " 'SongLearn',\n",
       " 'SongPerform',\n",
       " 'SubGenre',\n",
       " 'Venue']"
      ]
     },
     "execution_count": 18,
     "metadata": {},
     "output_type": "execute_result"
    }
   ],
   "source": [
    "# db_handler.get_row(\"Person\", \"t_the_p\")\n",
    "# db_handler.delete_row(\"Person\", \"t_the_p\")\n",
    "\n",
    "db_handler.table_names()"
   ]
  },
  {
   "cell_type": "code",
   "execution_count": 29,
   "id": "4bbf7550-bf26-4fc8-b9a8-4844d5b71c33",
   "metadata": {},
   "outputs": [
    {
     "data": {
      "text/plain": [
       "'id'"
      ]
     },
     "execution_count": 29,
     "metadata": {},
     "output_type": "execute_result"
    }
   ],
   "source": [
    "db_handler.entities.get(\"Person\").primary_key"
   ]
  },
  {
   "cell_type": "code",
   "execution_count": null,
   "id": "a99349d1-d125-486a-a837-1649a20c6835",
   "metadata": {},
   "outputs": [],
   "source": [
    "db_handler._create_erd()"
   ]
  },
  {
   "cell_type": "code",
   "execution_count": null,
   "id": "6e79c4f5-f9ab-47d1-a37c-975471723da3",
   "metadata": {},
   "outputs": [],
   "source": [
    "# row = db_handler._get_relations().iloc[17]\n",
    "row = {'left_table': 'SongPerform',\n",
    " 'left_key': 'instrument_id',\n",
    " 'right_table': 'Instrument',\n",
    " 'right_key': 'id'}\n",
    "\n",
    "\n",
    "def groupby_list(df, groupby_col, value_col):\n",
    "    df_g = df.copy()\n",
    "    df_g[value_col] = df_g[value_col].apply(lambda x: [x])\n",
    "    return df_g.groupby(groupby_col)[value_col].sum().to_dict()\n",
    "\n",
    "def get_key_mapping_for_fk_relation(self, row):\n",
    "    referer_name = row['left_table']\n",
    "    fk_referer = row['left_key']\n",
    "    refered_name = row['right_table']\n",
    "    fk_refered = row['right_key']\n",
    "    pk_referer = self.entities[referer_name].primary_key\n",
    "    pk_refered = self.entities[refered_name].primary_key\n",
    "    \n",
    "    query = f\"\"\"\n",
    "        SELECT\n",
    "            c.{pk_referer} as pk_referer,\n",
    "            c.{fk_referer} as fk_referer,\n",
    "            m.{pk_refered} as pk_refered,\n",
    "            m.{fk_refered} as fk_refered\n",
    "        FROM\n",
    "            {referer_name} as c\n",
    "        JOIN\n",
    "            {refered_name} as m\n",
    "        ON c.{fk_referer} = m.{fk_refered}\n",
    "    \"\"\"\n",
    "    result = self.query(query)\n",
    "    output = [\n",
    "        {\n",
    "            \"referer\": referer_name,\n",
    "            \"refered\": refered_name,\n",
    "            \"referer_pk\": pk_referer,\n",
    "            \"referer_fk\": fk_referer,\n",
    "            \"refered_pk\": pk_refered,\n",
    "            \"refered_fk\": fk_refered,\n",
    "            \"referer_to_refered\": groupby_list(result, \"pk_referer\", \"pk_refered\"),\n",
    "            \"refered_to_referer\": groupby_list(result, \"pk_refered\", \"pk_referer\"),            \n",
    "        }\n",
    "    ]\n",
    "    \n",
    "    # output = [\n",
    "    #     {\n",
    "    #         \"referer\": referer_name,\n",
    "    #         \"refered\": refered_name,\n",
    "    #         \"referer_pk\": pk_referer,\n",
    "    #         \"referer_fk\": fk_referer,\n",
    "    #         \"refered_pk\": pk_refered,\n",
    "    #         \"refered_fk\": fk_refered,\n",
    "    #         \"referer_to_refered\": groupby_list(result, \"pk_referer\", \"pk_refered\"),\n",
    "    #     },\n",
    "    #     {\n",
    "    #         \"referer\": refered_name,\n",
    "    #         \"refered\": referer_name,\n",
    "    #         \"referer_pk\": pk_refered,\n",
    "    #         \"referer_fk\": fk_refered,\n",
    "    #         \"refered_pk\": pk_referer,\n",
    "    #         \"refered_fk\": fk_referer,\n",
    "    #         \"referer_to_refered\": groupby_list(result, \"pk_refered\", \"pk_referer\"),\n",
    "    #     }\n",
    "    # ]\n",
    "    return output\n",
    "\n",
    "key_mappings = []\n",
    "for _, row in db_handler._get_relations().iterrows():\n",
    "    key_mappings.extend(get_key_mapping_for_fk_relation(db_handler, row))\n"
   ]
  },
  {
   "cell_type": "code",
   "execution_count": null,
   "id": "66e1b320-5667-4e11-a758-0078a53978ab",
   "metadata": {},
   "outputs": [],
   "source": [
    "key_mappings"
   ]
  },
  {
   "cell_type": "code",
   "execution_count": null,
   "id": "50c13d6c-79af-4b98-8aa6-a0d555e8aec6",
   "metadata": {},
   "outputs": [],
   "source": [
    "pk_referer = db_handler.entities[referer_name].primary_key\n",
    "pk_refered = db_handler.entities[refered_name].primary_key\n",
    "referer_cols = [f\"c.{pk_referer} as referer_pk\", f\"c.{fk_referer} as referer_fk\"]\n",
    "referer_table = db_handler.query(f\"SELECT {','.join(referer_cols)} FROM {referer_name} as c\")\n",
    "referer_table"
   ]
  },
  {
   "cell_type": "code",
   "execution_count": null,
   "id": "7f3dce55-f207-4367-9b33-e42f66907c9a",
   "metadata": {},
   "outputs": [],
   "source": [
    "def groupby_list(df, groupby_col, value_col):\n",
    "    df_g = df.copy()\n",
    "    df_g[value_col] = df_g[value_col].apply(lambda x: [x])\n",
    "    return df_g.groupby(groupby_col)[value_col].sum().to_dict()\n",
    "\n",
    "query = f\"\"\"\n",
    "SELECT\n",
    "    c.{pk_referer} as pk_referer,\n",
    "    c.{fk_referer} as fk_referer,\n",
    "    m.{pk_refered} as pk_refered,\n",
    "    m.{fk_refered} as fk_refered\n",
    "FROM\n",
    "    {referer_name} as c\n",
    "JOIN\n",
    "    {refered_name} as m\n",
    "ON c.{fk_referer} = m.{fk_refered}\n",
    "\"\"\"\n",
    "A = db_handler.query(query)\n",
    "\n",
    "# groupby_list(A, \"pk_referer\", \"pk_refered\")\n",
    "\n",
    "groupby_list(A, \"pk_refered\", \"pk_referer\")"
   ]
  },
  {
   "cell_type": "code",
   "execution_count": null,
   "id": "85691fdd-1206-4133-b89f-fe40db5395e1",
   "metadata": {},
   "outputs": [],
   "source": []
  },
  {
   "cell_type": "code",
   "execution_count": null,
   "id": "5fc55c3a-4279-4c7b-8b3b-3aab9361020e",
   "metadata": {},
   "outputs": [],
   "source": []
  },
  {
   "cell_type": "code",
   "execution_count": null,
   "id": "3da1a43d-b79b-47f5-8bdd-03f0fb7eb1e5",
   "metadata": {},
   "outputs": [],
   "source": []
  },
  {
   "cell_type": "code",
   "execution_count": null,
   "id": "ca14c46f-1c70-4bb1-870f-adeeda76a8e2",
   "metadata": {},
   "outputs": [],
   "source": []
  },
  {
   "cell_type": "code",
   "execution_count": null,
   "id": "b77a9900-22eb-41bc-9011-589d21bc3dcf",
   "metadata": {},
   "outputs": [],
   "source": []
  },
  {
   "cell_type": "code",
   "execution_count": null,
   "id": "16e7b9c8-664b-4c95-9281-801586f98f5f",
   "metadata": {},
   "outputs": [],
   "source": []
  },
  {
   "cell_type": "code",
   "execution_count": null,
   "id": "3d6e70e4-750a-47f9-bd52-84aa6139c274",
   "metadata": {},
   "outputs": [],
   "source": []
  },
  {
   "cell_type": "code",
   "execution_count": null,
   "id": "ff207c64-9302-4ca3-8ef3-fa6e5c923131",
   "metadata": {},
   "outputs": [],
   "source": []
  },
  {
   "cell_type": "code",
   "execution_count": null,
   "id": "a68e0d8a-087b-43ff-9608-26ac6e00a0b4",
   "metadata": {},
   "outputs": [],
   "source": []
  },
  {
   "cell_type": "code",
   "execution_count": null,
   "id": "6062c123-090c-47c4-a7a6-ddd3b887bcc8",
   "metadata": {},
   "outputs": [],
   "source": []
  },
  {
   "cell_type": "code",
   "execution_count": null,
   "id": "d2719b9a-99d7-4b04-b433-0a0ca208a019",
   "metadata": {},
   "outputs": [],
   "source": []
  },
  {
   "cell_type": "code",
   "execution_count": null,
   "id": "c3e67b43-eaae-43ed-b1c1-b94edbfdcc4e",
   "metadata": {},
   "outputs": [],
   "source": []
  },
  {
   "cell_type": "code",
   "execution_count": null,
   "id": "811888f0-f7fa-49ce-8e87-d3bb3af7b944",
   "metadata": {},
   "outputs": [],
   "source": []
  },
  {
   "cell_type": "code",
   "execution_count": null,
   "id": "d0651f3f-861d-4e7f-99da-1fcc22e684e7",
   "metadata": {},
   "outputs": [],
   "source": []
  },
  {
   "cell_type": "code",
   "execution_count": null,
   "id": "b3df78e0-e093-4701-813e-100c7e641a63",
   "metadata": {},
   "outputs": [],
   "source": [
    "conn.get_row(table_name=\"Key\", primary_key=\"D_minor\")"
   ]
  },
  {
   "cell_type": "code",
   "execution_count": null,
   "id": "4a84d3f5-4b86-4ded-873b-d61fe480a391",
   "metadata": {},
   "outputs": [],
   "source": [
    "! echo $PYTHONPATH"
   ]
  },
  {
   "cell_type": "code",
   "execution_count": null,
   "id": "69fea574-0be5-4f53-b1be-28ee79cebff7",
   "metadata": {},
   "outputs": [],
   "source": [
    "import graphviz\n",
    "graphviz.__version__"
   ]
  },
  {
   "cell_type": "code",
   "execution_count": null,
   "id": "45796156-b0da-4b25-8ad6-495155bfddbe",
   "metadata": {},
   "outputs": [],
   "source": [
    "import sqlite3\n",
    "sqlite3.__version__"
   ]
  },
  {
   "cell_type": "code",
   "execution_count": null,
   "id": "2b9b91f1-26e0-420b-abe2-55eae33cde51",
   "metadata": {},
   "outputs": [],
   "source": []
  },
  {
   "cell_type": "code",
   "execution_count": null,
   "id": "81277b0d-a069-4fa9-8a25-9db00bb24ecf",
   "metadata": {},
   "outputs": [],
   "source": []
  },
  {
   "cell_type": "code",
   "execution_count": null,
   "id": "2a6caa44-d835-45be-97c8-95f806cd14bf",
   "metadata": {},
   "outputs": [],
   "source": [
    "from jamdb.entities import Field"
   ]
  },
  {
   "cell_type": "code",
   "execution_count": null,
   "id": "31c218ee-b5ea-4848-8f32-be839eb73ccc",
   "metadata": {},
   "outputs": [],
   "source": [
    "# It is proving non-trivial to fetch various constraints from the db\n",
    "# and some of if effectively comes back to parsing the `jamming.sql`\n",
    "# Alternative, we could DEFINE all this stuff in a json, and then \n",
    "# create the `jamming.sql` and the DB itself from the json.\n",
    "\n",
    "stuff = conn.query(\"select sql from sqlite_master where type='table' and name='EventGen'\").iloc[0][\"sql\"]\n",
    "\n",
    "# pattern = \"unique\"\n",
    "# pattern = \"not null\"\n",
    "pattern = \"default\"\n",
    "\n",
    "entries = [\n",
    "    tmp.strip() for tmp in stuff.splitlines()\n",
    "    if pattern in tmp.lower()\n",
    "]\n",
    "entries"
   ]
  },
  {
   "cell_type": "code",
   "execution_count": null,
   "id": "af552fbe-f527-44d8-9fa5-f9138258be67",
   "metadata": {},
   "outputs": [],
   "source": [
    "relations = conn._get_relations()\n",
    "entity = conn.entities[\"EventOcc\"]\n",
    "fields = {}\n",
    "\n",
    "for column in entity.columns:\n",
    "    # How to extract UNIQUE, REQUIRED, and DEFAULTs from sqllite metadata?\n",
    "    unique = False\n",
    "    required = False\n",
    "    default = None\n",
    "    \n",
    "    relation = relations.query(f\"left_table == '{entity.table_name}'\").query(f\"left_key == '{column}'\")\n",
    "    if len(relation) == 1:\n",
    "        allowed_values = relation.iloc[0][\"allowed_values\"]\n",
    "    else:\n",
    "        allowed_values = None\n",
    "\n",
    "    current_values = list(conn.query(f\"SELECT DISTINCT {column} FROM {entity.table_name}\")[column])\n",
    "\n",
    "    field = Field(\n",
    "        table_name=entity.table_name,\n",
    "        field_name=column,\n",
    "        required=required, \n",
    "        unique=unique,\n",
    "        allowed_values=allowed_values,\n",
    "        default=default,\n",
    "        current_values=current_values\n",
    "    )\n",
    "    fields[column] = field\n",
    "\n",
    "fields[\"event_gen_id\"].allowed_values"
   ]
  },
  {
   "cell_type": "code",
   "execution_count": null,
   "id": "f1323d62-6ca2-4d8d-a2f9-e8c37566e86d",
   "metadata": {},
   "outputs": [],
   "source": [
    "conn.query(\"SELECT * FROM _schema_columns\")"
   ]
  },
  {
   "cell_type": "code",
   "execution_count": null,
   "id": "1e96e032-6f1a-4201-a499-1cb8139387ae",
   "metadata": {},
   "outputs": [],
   "source": []
  },
  {
   "cell_type": "code",
   "execution_count": null,
   "id": "e58166d5-1aba-43d4-85ed-12313712a87f",
   "metadata": {},
   "outputs": [],
   "source": [
    "# table_names = conn._sorted_tables()\n",
    "# idx = -1\n",
    "\n",
    "idx +=1\n",
    "table_name = table_names[idx]\n",
    "\n",
    "print(table_name)\n",
    "conn.query(f\"SELECT * FROM {table_name}\").head()"
   ]
  },
  {
   "cell_type": "code",
   "execution_count": null,
   "id": "ba78ce3c-b05d-4d04-bb9c-789cc9b61660",
   "metadata": {},
   "outputs": [],
   "source": []
  },
  {
   "cell_type": "code",
   "execution_count": null,
   "id": "8ff4b3c6-6d89-4628-b4f2-f3b6a4ad2719",
   "metadata": {},
   "outputs": [],
   "source": []
  },
  {
   "cell_type": "code",
   "execution_count": null,
   "id": "d8eb3203-b852-46e5-9c2a-c33a5e7672a3",
   "metadata": {},
   "outputs": [],
   "source": []
  },
  {
   "cell_type": "code",
   "execution_count": null,
   "id": "34e923ec-f097-4796-80b5-7b6375683c1f",
   "metadata": {},
   "outputs": [],
   "source": []
  },
  {
   "cell_type": "code",
   "execution_count": null,
   "id": "3921ddf3-0ae4-4f07-a5dd-cfd411e84b28",
   "metadata": {},
   "outputs": [],
   "source": []
  },
  {
   "cell_type": "code",
   "execution_count": null,
   "id": "6bb3e769-ea81-4557-8127-22a3a431cf4f",
   "metadata": {},
   "outputs": [],
   "source": []
  },
  {
   "cell_type": "code",
   "execution_count": null,
   "id": "33f48124-c6bc-4214-b444-1c0f96a045ca",
   "metadata": {},
   "outputs": [],
   "source": []
  },
  {
   "cell_type": "code",
   "execution_count": null,
   "id": "6a6a9d78-4d81-4a5a-b672-fa1c31656dc1",
   "metadata": {},
   "outputs": [],
   "source": []
  },
  {
   "cell_type": "code",
   "execution_count": null,
   "id": "10831929-9ca3-4208-aa55-9fa276fce68e",
   "metadata": {},
   "outputs": [],
   "source": []
  },
  {
   "cell_type": "code",
   "execution_count": null,
   "id": "10340c00-9c49-45a6-bb8b-2b8f47e7766f",
   "metadata": {},
   "outputs": [],
   "source": []
  },
  {
   "cell_type": "code",
   "execution_count": null,
   "id": "cf5903bb-0334-4db9-bc45-5faaf9b9a53f",
   "metadata": {},
   "outputs": [],
   "source": []
  },
  {
   "cell_type": "code",
   "execution_count": null,
   "id": "8613b778-dac5-42be-90d2-01b6e9daf40f",
   "metadata": {},
   "outputs": [],
   "source": []
  },
  {
   "cell_type": "code",
   "execution_count": null,
   "id": "afc3dabf-8e37-4cd8-869d-8138abddac90",
   "metadata": {},
   "outputs": [],
   "source": []
  },
  {
   "cell_type": "code",
   "execution_count": null,
   "id": "94b67a26-efd9-4287-b52c-c210b4c18d3e",
   "metadata": {},
   "outputs": [],
   "source": [
    "# conn.query(\"SELECT * FROM PersonInstrument\")\n",
    "# conn.query(\"SELECT * FROM SongPerform\")\n",
    "# conn.query(\"SELECT * FROM EventGen\")"
   ]
  },
  {
   "cell_type": "code",
   "execution_count": null,
   "id": "4c6831cb-dd53-42fc-8468-7efbd2177b7b",
   "metadata": {},
   "outputs": [],
   "source": [
    "conn.conn.close()\n",
    "conn._connect()"
   ]
  },
  {
   "cell_type": "code",
   "execution_count": null,
   "id": "e82e6cb7-164c-41c9-a299-b05e37bfb49b",
   "metadata": {},
   "outputs": [],
   "source": [
    "conn.query(\"SELECT * FROM Key\")"
   ]
  },
  {
   "cell_type": "code",
   "execution_count": null,
   "id": "b553bad1-18c7-4ce5-9ac1-bebc0f839821",
   "metadata": {},
   "outputs": [],
   "source": [
    "conn.query(\"SELECT * FROM Song\")[\"key_id\"].drop_duplicates().sort_values()"
   ]
  },
  {
   "cell_type": "code",
   "execution_count": null,
   "id": "c683d2b8-208b-4a99-ad3a-13425037ac32",
   "metadata": {},
   "outputs": [],
   "source": [
    "conn.query(\"SELECT * FROM SongPerform\")[\"key_id\"].drop_duplicates().sort_values()"
   ]
  },
  {
   "cell_type": "code",
   "execution_count": null,
   "id": "314626ae-8650-4f71-a3a4-d1b43463d9c9",
   "metadata": {},
   "outputs": [],
   "source": [
    "conn._connect()"
   ]
  },
  {
   "cell_type": "code",
   "execution_count": null,
   "id": "a419ce73-85b3-4154-b96b-9ebf998475fd",
   "metadata": {},
   "outputs": [],
   "source": [
    "conn.get_row(\"PersonInstrument\", \"trav_p:alto_sax\")"
   ]
  },
  {
   "cell_type": "code",
   "execution_count": null,
   "id": "855570af-d1c1-4a18-bfb6-941d25f2d034",
   "metadata": {},
   "outputs": [],
   "source": [
    "conn.query(\"SELECT * FROM SongPerform\")"
   ]
  },
  {
   "cell_type": "code",
   "execution_count": null,
   "id": "7a9dc536-6309-409c-942d-dedd809cc625",
   "metadata": {},
   "outputs": [],
   "source": [
    "conn.query(\"SELECT * FROM Venue\").head()"
   ]
  },
  {
   "cell_type": "code",
   "execution_count": null,
   "id": "e0e6c2e3-23d8-4931-89cf-ca42822f35b5",
   "metadata": {},
   "outputs": [],
   "source": [
    "print(\"\\n\".join(list(conn.entities.keys())))"
   ]
  },
  {
   "cell_type": "code",
   "execution_count": null,
   "id": "749652a0-6c98-462d-ae53-12e960b0e26d",
   "metadata": {},
   "outputs": [],
   "source": []
  },
  {
   "cell_type": "code",
   "execution_count": null,
   "id": "b9878f65-8cad-41f8-b293-3e492d551b37",
   "metadata": {},
   "outputs": [],
   "source": []
  },
  {
   "cell_type": "code",
   "execution_count": null,
   "id": "89bd350b-3cc4-43b6-880f-b5943d4403ed",
   "metadata": {},
   "outputs": [],
   "source": []
  },
  {
   "cell_type": "code",
   "execution_count": null,
   "id": "c2843f13-0e65-471f-804a-f31214232151",
   "metadata": {},
   "outputs": [],
   "source": [
    "conn._create_erd()"
   ]
  },
  {
   "cell_type": "code",
   "execution_count": null,
   "id": "1a648d14-265a-46a3-b413-55bf4f240ae3",
   "metadata": {},
   "outputs": [],
   "source": [
    "table = Table(conn, \"PersonInstrument\")"
   ]
  },
  {
   "cell_type": "code",
   "execution_count": null,
   "id": "5ed16c63-c7a6-43bc-a7f2-ab2223ef77ad",
   "metadata": {},
   "outputs": [],
   "source": [
    "conn.query(f\"pragma foreign_key_list('{table_name}')\")"
   ]
  },
  {
   "cell_type": "code",
   "execution_count": null,
   "id": "c92df4f5-1689-46af-bf44-77010a190841",
   "metadata": {},
   "outputs": [],
   "source": [
    "insert_person_inst({\"id\": \"made_up\", \"person_id\": \"paul_k\", \"instrument_id\": \"gong\"}, conn)"
   ]
  },
  {
   "cell_type": "code",
   "execution_count": null,
   "id": "3ee940bd-4ae8-4b2e-9be1-49bc362623a7",
   "metadata": {},
   "outputs": [],
   "source": [
    "table_name = \"PersonInstrument\"\n",
    "\n",
    "stuff = conn.query(f\"select sql from sqlite_master where type='table' and name='{table_name}'\").iloc[0][\"sql\"]\n",
    "print(stuff)\n",
    "\n",
    "entries = [ tmp.strip() for tmp in stuff.splitlines() if tmp.lower().find(\"constraint\")>=0 or tmp.lower().find(\"unique\")>=0 ]\n",
    "entries"
   ]
  },
  {
   "cell_type": "code",
   "execution_count": null,
   "id": "7ef2e6df-6d49-4967-92ed-e07af3b049c0",
   "metadata": {},
   "outputs": [],
   "source": [
    "conn.execute(f\"pragma index_list('{table_name}')\").fetchall()"
   ]
  },
  {
   "cell_type": "code",
   "execution_count": null,
   "id": "e8e51155-4d36-492b-870a-86e9301ef585",
   "metadata": {},
   "outputs": [],
   "source": [
    "conn.execute(f\".schema {table_name}\").fetchall()"
   ]
  },
  {
   "cell_type": "code",
   "execution_count": null,
   "id": "90371961-a5a7-449c-b6ab-93f6fd3c5dda",
   "metadata": {},
   "outputs": [],
   "source": [
    "relations = []\n",
    "for table_name in conn.table_names():\n",
    "    relations.extend(\n",
    "        {\n",
    "            \"left_table\": table_name,\n",
    "            \"left_key\": row[\"from\"],\n",
    "            \"right_table\": row[\"table\"],\n",
    "            \"right_key\": row[\"to\"]\n",
    "        }\n",
    "        for _, row in conn.query(f\"pragma foreign_key_list('{table_name}')\").iterrows()\n",
    "    )\n",
    "\n",
    "for constraint in relations:\n",
    "    constraint[\"allowed_values\"] = list(\n",
    "        conn.query(f'SELECT {constraint[\"right_key\"]} FROM {constraint[\"right_table\"]}')[constraint[\"right_key\"]]\n",
    "    )\n",
    "relations\n",
    "\n",
    "# for constraint in fks:\n",
    "#     col_name = constraint[\"left_key\"]\n",
    "#     if constraint[\"left_key\"] in row:\n",
    "#         value = row[col_name]\n",
    "        \n",
    "#         constraint[\"allowed_values\"] = list(\n",
    "#             self.backend.query(f'SELECT {constraint[\"right_key\"]} FROM {constraint[\"right_table\"]}')[constraint[\"right_key\"]]\n",
    "#         )\n",
    "\n",
    "\n",
    "# fks = (\n",
    "#                 self.backend._get_relations().query(f'left_table == \"{self.table_name}\"')\n",
    "#             ).to_dict(orient=\"records\")\n",
    "    \n",
    "#             for constraint in fks:\n",
    "#                 col_name = constraint[\"left_key\"]\n",
    "#                 if constraint[\"left_key\"] in row:\n",
    "#                     value = row[col_name]\n",
    "                    \n",
    "#                     constraint[\"allowed_values\"] = list(\n",
    "#                         self.backend.query(f'SELECT {constraint[\"right_key\"]} FROM {constraint[\"right_table\"]}')[constraint[\"right_key\"]]\n",
    "#                     )"
   ]
  },
  {
   "cell_type": "code",
   "execution_count": null,
   "id": "4cb845af-041d-40e3-b561-0a4fccc5e4f5",
   "metadata": {},
   "outputs": [],
   "source": [
    "df = conn.query(\"SELECT table_name, column from _schema_columns\")\n",
    "df[\"column\"] = df[\"column\"].apply(lambda x: [x])\n",
    "df.groupby(\"table_name\")[\"column\"].sum().to_dict()"
   ]
  },
  {
   "cell_type": "code",
   "execution_count": null,
   "id": "3c4ceb20-f62c-4655-a450-e4dd91223064",
   "metadata": {},
   "outputs": [],
   "source": []
  }
 ],
 "metadata": {
  "kernelspec": {
   "display_name": "Python 3 (ipykernel)",
   "language": "python",
   "name": "python3"
  },
  "language_info": {
   "codemirror_mode": {
    "name": "ipython",
    "version": 3
   },
   "file_extension": ".py",
   "mimetype": "text/x-python",
   "name": "python",
   "nbconvert_exporter": "python",
   "pygments_lexer": "ipython3",
   "version": "3.9.6"
  }
 },
 "nbformat": 4,
 "nbformat_minor": 5
}
