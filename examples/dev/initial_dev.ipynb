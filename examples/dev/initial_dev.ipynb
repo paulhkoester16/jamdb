{
 "cells": [
  {
   "cell_type": "markdown",
   "id": "ad527c9c-c3c5-4c37-817b-de6f793f2263",
   "metadata": {},
   "source": [
    "# Set up the sqlite DB \n",
    "\n",
    "TODO -- Take a stand on 1-dim vs multi-dim PKS\n",
    "* Some of the code ALLOWS multi-dim\n",
    "* Other parts only work with 1-dim, so it is misleading to pretend multi-dim is supported"
   ]
  },
  {
   "cell_type": "code",
   "execution_count": 4,
   "id": "35cc87e6-2f8f-4aec-a265-b89553ce48fb",
   "metadata": {},
   "outputs": [],
   "source": [
    "import sys\n",
    "from pathlib import Path\n",
    "\n",
    "REPO_ROOT = Path(\"./\").absolute().parent.parent\n",
    "sys.path.append(str(REPO_ROOT))\n",
    "DB_FILE = REPO_ROOT / \"data/jamming.db\"\n"
   ]
  },
  {
   "cell_type": "code",
   "execution_count": 2,
   "id": "56e6a3e9-c165-43f4-abf6-f73276cd301c",
   "metadata": {},
   "outputs": [],
   "source": [
    "### Init the DB\n",
    "from jamdb.db import init_db\n",
    "\n",
    "SQL_FILE = REPO_ROOT / \"jamdb/jamming.sql\"\n",
    "\n",
    "DB_FILE.unlink(missing_ok=True)\n",
    "\n",
    "init_db(sql_file=SQL_FILE, db_file=DB_FILE)"
   ]
  },
  {
   "cell_type": "code",
   "execution_count": 5,
   "id": "a904b62c-7973-4c71-b5a7-33ecf4262467",
   "metadata": {},
   "outputs": [],
   "source": [
    "import json\n",
    "import sqlite3\n",
    "import pandas as pd\n",
    "from pandas_ods_reader import read_ods\n",
    "\n",
    "pd.options.display.max_rows = 200\n",
    "\n",
    "from jamdb.db import BackendSQLite #, DBError, UniqueConstraintError, FKConstraintError\n",
    "\n",
    "conn = BackendSQLite(DB_FILE)"
   ]
  },
  {
   "cell_type": "code",
   "execution_count": null,
   "id": "ceed8e19-4c12-4921-9196-9a6a540ba65c",
   "metadata": {},
   "outputs": [],
   "source": [
    "ODS_FILE = \"../jamming_db/data/paul_k_db/public.ods\"\n",
    "ODS_FILE_PRIVATE = \"../jamming_db/data/paul_k_db/private.ods\"\n",
    "table_metadata = read_ods(ODS_FILE, \"table_metadata\")\n",
    "relations = read_ods(ODS_FILE, \"relations\")\n",
    "\n",
    "for table_name in conn._sorted_tables():\n",
    "    if table_name == \"Person\":\n",
    "        pub = read_ods(ODS_FILE, \"Person\")\n",
    "        priv = read_ods(ODS_FILE_PRIVATE, \"PersonPrivate\")\n",
    "        table = pub.merge(priv, on=\"id\")\n",
    "    else:\n",
    "        table = read_ods(ODS_FILE, table_name)\n",
    "\n",
    "    for _, row in table.iterrows():\n",
    "        try:\n",
    "            conn.insert_row(table_name=table_name, row=row)\n",
    "        except Exception as exc:\n",
    "            msg = f\"{table_name=}, {row=}\"\n",
    "            raise Exception(msg) from exc\n",
    "    # try:\n",
    "    #     table.to_sql(table_name, conn.conn, if_exists=\"append\", index=False)\n",
    "    #     conn.conn.commit()\n",
    "    # except Exception as exc:\n",
    "    #     raise Exception(table_name) from exc"
   ]
  },
  {
   "cell_type": "code",
   "execution_count": null,
   "id": "2a6caa44-d835-45be-97c8-95f806cd14bf",
   "metadata": {},
   "outputs": [],
   "source": [
    "from jamdb.entities import Field"
   ]
  },
  {
   "cell_type": "code",
   "execution_count": null,
   "id": "31c218ee-b5ea-4848-8f32-be839eb73ccc",
   "metadata": {},
   "outputs": [],
   "source": [
    "# It is proving non-trivial to fetch various constraints from the db\n",
    "# and some of if effectively comes back to parsing the `jamming.sql`\n",
    "# Alternative, we could DEFINE all this stuff in a json, and then \n",
    "# create the `jamming.sql` and the DB itself from the json.\n",
    "\n",
    "stuff = conn.query(\"select sql from sqlite_master where type='table' and name='EventGen'\").iloc[0][\"sql\"]\n",
    "\n",
    "# pattern = \"unique\"\n",
    "# pattern = \"not null\"\n",
    "pattern = \"default\"\n",
    "\n",
    "entries = [\n",
    "    tmp.strip() for tmp in stuff.splitlines()\n",
    "    if pattern in tmp.lower()\n",
    "]\n",
    "entries"
   ]
  },
  {
   "cell_type": "code",
   "execution_count": null,
   "id": "af552fbe-f527-44d8-9fa5-f9138258be67",
   "metadata": {},
   "outputs": [],
   "source": [
    "relations = conn._get_relations()\n",
    "entity = conn.entities[\"EventOcc\"]\n",
    "fields = {}\n",
    "\n",
    "for column in entity.columns:\n",
    "    # How to extract UNIQUE, REQUIRED, and DEFAULTs from sqllite metadata?\n",
    "    unique = False\n",
    "    required = False\n",
    "    default = None\n",
    "    \n",
    "    relation = relations.query(f\"left_table == '{entity.table_name}'\").query(f\"left_key == '{column}'\")\n",
    "    if len(relation) == 1:\n",
    "        allowed_values = relation.iloc[0][\"allowed_values\"]\n",
    "    else:\n",
    "        allowed_values = None\n",
    "\n",
    "    current_values = list(conn.query(f\"SELECT DISTINCT {column} FROM {entity.table_name}\")[column])\n",
    "\n",
    "    field = Field(\n",
    "        table_name=entity.table_name,\n",
    "        field_name=column,\n",
    "        required=required, \n",
    "        unique=unique,\n",
    "        allowed_values=allowed_values,\n",
    "        default=default,\n",
    "        current_values=current_values\n",
    "    )\n",
    "    fields[column] = field\n",
    "\n",
    "fields[\"event_gen_id\"].allowed_values"
   ]
  },
  {
   "cell_type": "code",
   "execution_count": null,
   "id": "f1323d62-6ca2-4d8d-a2f9-e8c37566e86d",
   "metadata": {},
   "outputs": [],
   "source": [
    "conn.query(\"SELECT * FROM _schema_columns\")"
   ]
  },
  {
   "cell_type": "code",
   "execution_count": null,
   "id": "1e96e032-6f1a-4201-a499-1cb8139387ae",
   "metadata": {},
   "outputs": [],
   "source": []
  },
  {
   "cell_type": "code",
   "execution_count": null,
   "id": "e58166d5-1aba-43d4-85ed-12313712a87f",
   "metadata": {},
   "outputs": [],
   "source": [
    "# table_names = conn._sorted_tables()\n",
    "# idx = -1\n",
    "\n",
    "idx +=1\n",
    "table_name = table_names[idx]\n",
    "\n",
    "print(table_name)\n",
    "conn.query(f\"SELECT * FROM {table_name}\").head()"
   ]
  },
  {
   "cell_type": "code",
   "execution_count": null,
   "id": "ba78ce3c-b05d-4d04-bb9c-789cc9b61660",
   "metadata": {},
   "outputs": [],
   "source": [
    "conn.query(\"SELECT * FROM Key\")[\"mode_id\"].value_counts()"
   ]
  },
  {
   "cell_type": "code",
   "execution_count": null,
   "id": "8ff4b3c6-6d89-4628-b4f2-f3b6a4ad2719",
   "metadata": {},
   "outputs": [],
   "source": [
    "conn.delete_row(\"Person\", \"paul_k\")"
   ]
  },
  {
   "cell_type": "code",
   "execution_count": null,
   "id": "d8eb3203-b852-46e5-9c2a-c33a5e7672a3",
   "metadata": {},
   "outputs": [],
   "source": [
    "conn.delete_row(\"Song\", \"work_song\")"
   ]
  },
  {
   "cell_type": "code",
   "execution_count": null,
   "id": "34e923ec-f097-4796-80b5-7b6375683c1f",
   "metadata": {},
   "outputs": [],
   "source": [
    "# conn.insert_row(\"PersonInstrument\", {\"id\": \"made_up\", \"person_id\": \"paul_k\", \"instrument_id\": \"gong\"})"
   ]
  },
  {
   "cell_type": "code",
   "execution_count": null,
   "id": "d7767927-b3b4-46dc-a958-894dfe8c9810",
   "metadata": {},
   "outputs": [],
   "source": [
    "conn.insert_row(\"PersonInstrument\", {\"id\": \"made_up\", \"person_id\": \"paul_k\", \"instrument_id\": \"trumpet\"})"
   ]
  },
  {
   "cell_type": "code",
   "execution_count": null,
   "id": "3921ddf3-0ae4-4f07-a5dd-cfd411e84b28",
   "metadata": {},
   "outputs": [],
   "source": [
    "conn.update_row(\"PersonInstrument\", \"made_up\", {\"id\": \"made_up\", \"instrument_id\": \"a_sax\"})"
   ]
  },
  {
   "cell_type": "code",
   "execution_count": null,
   "id": "6bb3e769-ea81-4557-8127-22a3a431cf4f",
   "metadata": {},
   "outputs": [],
   "source": [
    "conn.update_row(\"PersonInstrument\", \"made_up\", {\"instrument_id\": \"e_guitar\"})"
   ]
  },
  {
   "cell_type": "code",
   "execution_count": null,
   "id": "33f48124-c6bc-4214-b444-1c0f96a045ca",
   "metadata": {},
   "outputs": [],
   "source": [
    "conn.update_row(\"PersonInstrument\", \"made_up\", {\"instrument_id\": \"gong\"})"
   ]
  },
  {
   "cell_type": "code",
   "execution_count": null,
   "id": "6a6a9d78-4d81-4a5a-b672-fa1c31656dc1",
   "metadata": {},
   "outputs": [],
   "source": [
    "conn.update_row(\"PersonInstrument\", \"made_up\", {\"instrument_id\": \"t_sax\"})"
   ]
  },
  {
   "cell_type": "code",
   "execution_count": null,
   "id": "10831929-9ca3-4208-aa55-9fa276fce68e",
   "metadata": {},
   "outputs": [],
   "source": [
    "conn.get_row(\"PersonInstrument\", \"made_up\")"
   ]
  },
  {
   "cell_type": "code",
   "execution_count": null,
   "id": "10340c00-9c49-45a6-bb8b-2b8f47e7766f",
   "metadata": {},
   "outputs": [],
   "source": [
    "conn.rename_primary_key(\"PersonInstrument\", \"made_up\", \"paul_k:t_sax\")"
   ]
  },
  {
   "cell_type": "code",
   "execution_count": null,
   "id": "01104051-d533-4c5e-83d9-3411597acd2f",
   "metadata": {},
   "outputs": [],
   "source": [
    "conn.get_row(\"PersonInstrument\", \"paul_k:t_sax\")"
   ]
  },
  {
   "cell_type": "code",
   "execution_count": null,
   "id": "5d2c33b0-0e7c-4650-9f32-da6ab0efa2ec",
   "metadata": {},
   "outputs": [],
   "source": [
    "conn.get_row(\"PersonInstrument\", \"paul_k:e_guitar\")"
   ]
  },
  {
   "cell_type": "code",
   "execution_count": null,
   "id": "5e95ba78-2a5f-42b2-9151-2caa23def7f6",
   "metadata": {},
   "outputs": [],
   "source": [
    "conn.rename_primary_key(\"PersonInstrument\", \"paul_k:e_guitar\", \"paul_k:electric_geetar\")"
   ]
  },
  {
   "cell_type": "code",
   "execution_count": null,
   "id": "0b0107b7-9a52-4e5d-9e05-6aa9437a80e1",
   "metadata": {},
   "outputs": [],
   "source": [
    "conn.get_row(\"PersonInstrument\", \"paul_k:electric_geetar\")"
   ]
  },
  {
   "cell_type": "code",
   "execution_count": null,
   "id": "cf5903bb-0334-4db9-bc45-5faaf9b9a53f",
   "metadata": {},
   "outputs": [],
   "source": [
    "conn.get_row(\"PersonInstrument\", \"travis_p:a_sax\")"
   ]
  },
  {
   "cell_type": "code",
   "execution_count": null,
   "id": "8613b778-dac5-42be-90d2-01b6e9daf40f",
   "metadata": {},
   "outputs": [],
   "source": [
    "conn.delete_row(\"PersonInstrument\", \"travis_p:a_sax\")"
   ]
  },
  {
   "cell_type": "code",
   "execution_count": null,
   "id": "afc3dabf-8e37-4cd8-869d-8138abddac90",
   "metadata": {},
   "outputs": [],
   "source": []
  },
  {
   "cell_type": "code",
   "execution_count": null,
   "id": "94b67a26-efd9-4287-b52c-c210b4c18d3e",
   "metadata": {},
   "outputs": [],
   "source": [
    "# conn.query(\"SELECT * FROM PersonInstrument\")\n",
    "# conn.query(\"SELECT * FROM SongPerform\")\n",
    "# conn.query(\"SELECT * FROM EventGen\")"
   ]
  },
  {
   "cell_type": "code",
   "execution_count": null,
   "id": "4c6831cb-dd53-42fc-8468-7efbd2177b7b",
   "metadata": {},
   "outputs": [],
   "source": [
    "conn.conn.close()\n",
    "conn._connect()"
   ]
  },
  {
   "cell_type": "code",
   "execution_count": null,
   "id": "e82e6cb7-164c-41c9-a299-b05e37bfb49b",
   "metadata": {},
   "outputs": [],
   "source": [
    "conn.query(\"SELECT * FROM Key\")"
   ]
  },
  {
   "cell_type": "code",
   "execution_count": null,
   "id": "b553bad1-18c7-4ce5-9ac1-bebc0f839821",
   "metadata": {},
   "outputs": [],
   "source": [
    "conn.query(\"SELECT * FROM Song\")[\"key_id\"].drop_duplicates().sort_values()"
   ]
  },
  {
   "cell_type": "code",
   "execution_count": null,
   "id": "c683d2b8-208b-4a99-ad3a-13425037ac32",
   "metadata": {},
   "outputs": [],
   "source": [
    "conn.query(\"SELECT * FROM SongPerform\")[\"key_id\"].drop_duplicates().sort_values()"
   ]
  },
  {
   "cell_type": "code",
   "execution_count": null,
   "id": "314626ae-8650-4f71-a3a4-d1b43463d9c9",
   "metadata": {},
   "outputs": [],
   "source": [
    "conn._connect()"
   ]
  },
  {
   "cell_type": "code",
   "execution_count": null,
   "id": "a419ce73-85b3-4154-b96b-9ebf998475fd",
   "metadata": {},
   "outputs": [],
   "source": [
    "conn.get_row(\"PersonInstrument\", \"trav_p:alto_sax\")"
   ]
  },
  {
   "cell_type": "code",
   "execution_count": null,
   "id": "855570af-d1c1-4a18-bfb6-941d25f2d034",
   "metadata": {},
   "outputs": [],
   "source": [
    "conn.query(\"SELECT * FROM SongPerform\")"
   ]
  },
  {
   "cell_type": "code",
   "execution_count": null,
   "id": "7a9dc536-6309-409c-942d-dedd809cc625",
   "metadata": {},
   "outputs": [],
   "source": [
    "conn.query(\"SELECT * FROM Venue\").head()"
   ]
  },
  {
   "cell_type": "code",
   "execution_count": null,
   "id": "e0e6c2e3-23d8-4931-89cf-ca42822f35b5",
   "metadata": {},
   "outputs": [],
   "source": [
    "print(\"\\n\".join(list(conn.entities.keys())))"
   ]
  },
  {
   "cell_type": "code",
   "execution_count": null,
   "id": "749652a0-6c98-462d-ae53-12e960b0e26d",
   "metadata": {},
   "outputs": [],
   "source": []
  },
  {
   "cell_type": "code",
   "execution_count": null,
   "id": "b9878f65-8cad-41f8-b293-3e492d551b37",
   "metadata": {},
   "outputs": [],
   "source": []
  },
  {
   "cell_type": "code",
   "execution_count": null,
   "id": "89bd350b-3cc4-43b6-880f-b5943d4403ed",
   "metadata": {},
   "outputs": [],
   "source": []
  },
  {
   "cell_type": "code",
   "execution_count": null,
   "id": "c2843f13-0e65-471f-804a-f31214232151",
   "metadata": {},
   "outputs": [],
   "source": [
    "conn._create_erd()"
   ]
  },
  {
   "cell_type": "code",
   "execution_count": null,
   "id": "1a648d14-265a-46a3-b413-55bf4f240ae3",
   "metadata": {},
   "outputs": [],
   "source": [
    "table = Table(conn, \"PersonInstrument\")"
   ]
  },
  {
   "cell_type": "code",
   "execution_count": null,
   "id": "5ed16c63-c7a6-43bc-a7f2-ab2223ef77ad",
   "metadata": {},
   "outputs": [],
   "source": [
    "conn.query(f\"pragma foreign_key_list('{table_name}')\")"
   ]
  },
  {
   "cell_type": "code",
   "execution_count": null,
   "id": "c92df4f5-1689-46af-bf44-77010a190841",
   "metadata": {},
   "outputs": [],
   "source": [
    "insert_person_inst({\"id\": \"made_up\", \"person_id\": \"paul_k\", \"instrument_id\": \"gong\"}, conn)"
   ]
  },
  {
   "cell_type": "code",
   "execution_count": null,
   "id": "3ee940bd-4ae8-4b2e-9be1-49bc362623a7",
   "metadata": {},
   "outputs": [],
   "source": [
    "table_name = \"PersonInstrument\"\n",
    "\n",
    "stuff = conn.query(f\"select sql from sqlite_master where type='table' and name='{table_name}'\").iloc[0][\"sql\"]\n",
    "print(stuff)\n",
    "\n",
    "entries = [ tmp.strip() for tmp in stuff.splitlines() if tmp.lower().find(\"constraint\")>=0 or tmp.lower().find(\"unique\")>=0 ]\n",
    "entries"
   ]
  },
  {
   "cell_type": "code",
   "execution_count": null,
   "id": "7ef2e6df-6d49-4967-92ed-e07af3b049c0",
   "metadata": {},
   "outputs": [],
   "source": [
    "conn.execute(f\"pragma index_list('{table_name}')\").fetchall()"
   ]
  },
  {
   "cell_type": "code",
   "execution_count": null,
   "id": "e8e51155-4d36-492b-870a-86e9301ef585",
   "metadata": {},
   "outputs": [],
   "source": [
    "conn.execute(f\".schema {table_name}\").fetchall()"
   ]
  },
  {
   "cell_type": "code",
   "execution_count": null,
   "id": "90371961-a5a7-449c-b6ab-93f6fd3c5dda",
   "metadata": {},
   "outputs": [],
   "source": [
    "relations = []\n",
    "for table_name in conn.table_names():\n",
    "    relations.extend(\n",
    "        {\n",
    "            \"left_table\": table_name,\n",
    "            \"left_key\": row[\"from\"],\n",
    "            \"right_table\": row[\"table\"],\n",
    "            \"right_key\": row[\"to\"]\n",
    "        }\n",
    "        for _, row in conn.query(f\"pragma foreign_key_list('{table_name}')\").iterrows()\n",
    "    )\n",
    "\n",
    "for constraint in relations:\n",
    "    constraint[\"allowed_values\"] = list(\n",
    "        conn.query(f'SELECT {constraint[\"right_key\"]} FROM {constraint[\"right_table\"]}')[constraint[\"right_key\"]]\n",
    "    )\n",
    "relations\n",
    "\n",
    "# for constraint in fks:\n",
    "#     col_name = constraint[\"left_key\"]\n",
    "#     if constraint[\"left_key\"] in row:\n",
    "#         value = row[col_name]\n",
    "        \n",
    "#         constraint[\"allowed_values\"] = list(\n",
    "#             self.backend.query(f'SELECT {constraint[\"right_key\"]} FROM {constraint[\"right_table\"]}')[constraint[\"right_key\"]]\n",
    "#         )\n",
    "\n",
    "\n",
    "# fks = (\n",
    "#                 self.backend._get_relations().query(f'left_table == \"{self.table_name}\"')\n",
    "#             ).to_dict(orient=\"records\")\n",
    "    \n",
    "#             for constraint in fks:\n",
    "#                 col_name = constraint[\"left_key\"]\n",
    "#                 if constraint[\"left_key\"] in row:\n",
    "#                     value = row[col_name]\n",
    "                    \n",
    "#                     constraint[\"allowed_values\"] = list(\n",
    "#                         self.backend.query(f'SELECT {constraint[\"right_key\"]} FROM {constraint[\"right_table\"]}')[constraint[\"right_key\"]]\n",
    "#                     )"
   ]
  },
  {
   "cell_type": "code",
   "execution_count": null,
   "id": "4cb845af-041d-40e3-b561-0a4fccc5e4f5",
   "metadata": {},
   "outputs": [],
   "source": [
    "df = conn.query(\"SELECT table_name, column from _schema_columns\")\n",
    "df[\"column\"] = df[\"column\"].apply(lambda x: [x])\n",
    "df.groupby(\"table_name\")[\"column\"].sum().to_dict()"
   ]
  },
  {
   "cell_type": "code",
   "execution_count": null,
   "id": "3c4ceb20-f62c-4655-a450-e4dd91223064",
   "metadata": {},
   "outputs": [],
   "source": []
  }
 ],
 "metadata": {
  "kernelspec": {
   "display_name": "Python 3 (ipykernel)",
   "language": "python",
   "name": "python3"
  },
  "language_info": {
   "codemirror_mode": {
    "name": "ipython",
    "version": 3
   },
   "file_extension": ".py",
   "mimetype": "text/x-python",
   "name": "python",
   "nbconvert_exporter": "python",
   "pygments_lexer": "ipython3",
   "version": "3.9.6"
  }
 },
 "nbformat": 4,
 "nbformat_minor": 5
}
